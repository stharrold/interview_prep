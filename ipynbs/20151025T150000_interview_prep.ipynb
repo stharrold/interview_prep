{
 "cells": [
  {
   "cell_type": "markdown",
   "metadata": {},
   "source": [
    "# Interview preparation\n",
    "\n",
    "## Initialization\n",
    "\n",
    "### Imports"
   ]
  },
  {
   "cell_type": "code",
   "execution_count": 1,
   "metadata": {
    "collapsed": false
   },
   "outputs": [
    {
     "name": "stdout",
     "output_type": "stream",
     "text": [
      "/home/samuel_harrold\n"
     ]
    }
   ],
   "source": [
    "cd ~"
   ]
  },
  {
   "cell_type": "code",
   "execution_count": 56,
   "metadata": {
    "collapsed": false
   },
   "outputs": [
    {
     "name": "stdout",
     "output_type": "stream",
     "text": [
      "The autoreload extension is already loaded. To reload it, use:\n",
      "  %reload_ext autoreload\n"
     ]
    },
    {
     "name": "stderr",
     "output_type": "stream",
     "text": [
      "[autoreload of interview_prep.interview_prep.phone_screen failed: Traceback (most recent call last):\n",
      "  File \"/home/samuel_harrold/anaconda3/lib/python3.4/site-packages/IPython/extensions/autoreload.py\", line 247, in check\n",
      "    superreload(m, reload, self.old_objects)\n",
      "ImportError: cannot import name 'phone_screen'\n",
      "]\n",
      "[autoreload of interview_prep.interview_prep.interview_cake failed: Traceback (most recent call last):\n",
      "  File \"/home/samuel_harrold/anaconda3/lib/python3.4/site-packages/IPython/extensions/autoreload.py\", line 247, in check\n",
      "    superreload(m, reload, self.old_objects)\n",
      "ImportError: cannot import name 'interview_cake'\n",
      "]\n",
      "[autoreload of interview_prep.interview_prep failed: Traceback (most recent call last):\n",
      "  File \"/home/samuel_harrold/anaconda3/lib/python3.4/site-packages/IPython/extensions/autoreload.py\", line 247, in check\n",
      "    superreload(m, reload, self.old_objects)\n",
      "ImportError: cannot import name 'fibonacci'\n",
      "]\n",
      "[autoreload of interview_prep.interview_prep.fibonacci failed: Traceback (most recent call last):\n",
      "  File \"/home/samuel_harrold/anaconda3/lib/python3.4/site-packages/IPython/extensions/autoreload.py\", line 247, in check\n",
      "    superreload(m, reload, self.old_objects)\n",
      "ImportError: cannot import name 'fib'\n",
      "]\n",
      "[autoreload of interview_prep.interview_prep.sorting failed: Traceback (most recent call last):\n",
      "  File \"/home/samuel_harrold/anaconda3/lib/python3.4/site-packages/IPython/extensions/autoreload.py\", line 247, in check\n",
      "    superreload(m, reload, self.old_objects)\n",
      "ImportError: cannot import name 'sorting'\n",
      "]\n"
     ]
    }
   ],
   "source": [
    "# Import standard packages.\n",
    "# Import installed packages.\n",
    "# Import local packages.\n",
    "# TODO: remove autoreload after testing\n",
    "%load_ext autoreload\n",
    "%autoreload 2\n",
    "# As of 2015-10-25, `interview_prep` (https://github.com/stharrold/interview_prep) is not an installable package.\n",
    "# `interview_prep` repository must be in the Python module search path to be imported.\n",
    "import interview_prep.interview_prep as ip"
   ]
  },
  {
   "cell_type": "markdown",
   "metadata": {},
   "source": [
    "### Globals"
   ]
  },
  {
   "cell_type": "code",
   "execution_count": null,
   "metadata": {
    "collapsed": true
   },
   "outputs": [],
   "source": []
  },
  {
   "cell_type": "markdown",
   "metadata": {},
   "source": [
    "## Testing"
   ]
  },
  {
   "cell_type": "code",
   "execution_count": null,
   "metadata": {
    "collapsed": true
   },
   "outputs": [],
   "source": []
  }
 ],
 "metadata": {
  "kernelspec": {
   "display_name": "Python 3",
   "language": "python",
   "name": "python3"
  },
  "language_info": {
   "codemirror_mode": {
    "name": "ipython",
    "version": 3
   },
   "file_extension": ".py",
   "mimetype": "text/x-python",
   "name": "python",
   "nbconvert_exporter": "python",
   "pygments_lexer": "ipython3",
   "version": "3.4.3"
  }
 },
 "nbformat": 4,
 "nbformat_minor": 0
}
