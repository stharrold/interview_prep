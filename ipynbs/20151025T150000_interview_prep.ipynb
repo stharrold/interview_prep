{
 "cells": [
  {
   "cell_type": "markdown",
   "metadata": {},
   "source": [
    "# Interview preparation\n",
    "\n",
    "## Initialization\n",
    "\n",
    "### Imports"
   ]
  },
  {
   "cell_type": "code",
   "execution_count": 1,
   "metadata": {
    "collapsed": false
   },
   "outputs": [
    {
     "name": "stdout",
     "output_type": "stream",
     "text": [
      "/home/samuel_harrold\n"
     ]
    }
   ],
   "source": [
    "cd ~"
   ]
  },
  {
   "cell_type": "code",
   "execution_count": 2,
   "metadata": {
    "collapsed": false
   },
   "outputs": [],
   "source": [
    "# Import standard packages.\n",
    "import collections\n",
    "import io\n",
    "import itertools\n",
    "import functools\n",
    "import operator\n",
    "import os\n",
    "import pdb\n",
    "import sys\n",
    "# Import installed packages.\n",
    "import pytest\n",
    "# Import local packages.\n",
    "# TODO: remove autoreload after testing\n",
    "%load_ext autoreload\n",
    "%autoreload 2\n",
    "# As of 2015-10-25, `interview_prep` (https://github.com/stharrold/interview_prep) is not an installable package.\n",
    "# `interview_prep` repository must be in the Python module search path to be imported.\n",
    "sys.path.insert(0, os.path.join(os.path.expanduser(r'~'), 'interview_prep'))\n",
    "import interview_prep as ip"
   ]
  },
  {
   "cell_type": "code",
   "execution_count": 3,
   "metadata": {
    "collapsed": false
   },
   "outputs": [
    {
     "data": {
      "text/plain": [
       "['/home/samuel_harrold/interview_prep',\n",
       " '',\n",
       " '/home/samuel_harrold/anaconda3/lib/python34.zip',\n",
       " '/home/samuel_harrold/anaconda3/lib/python3.4',\n",
       " '/home/samuel_harrold/anaconda3/lib/python3.4/plat-linux',\n",
       " '/home/samuel_harrold/anaconda3/lib/python3.4/lib-dynload',\n",
       " '/home/samuel_harrold/anaconda3/lib/python3.4/site-packages/Sphinx-1.3.1-py3.4.egg',\n",
       " '/home/samuel_harrold/anaconda3/lib/python3.4/site-packages/setuptools-18.4-py3.4.egg',\n",
       " '/home/samuel_harrold/anaconda3/lib/python3.4/site-packages',\n",
       " '/home/samuel_harrold/anaconda3/lib/python3.4/site-packages/cryptography-0.9.1-py3.4-linux-x86_64.egg',\n",
       " '/home/samuel_harrold/anaconda3/lib/python3.4/site-packages/IPython/extensions',\n",
       " '/home/samuel_harrold/.ipython']"
      ]
     },
     "execution_count": 3,
     "metadata": {},
     "output_type": "execute_result"
    }
   ],
   "source": [
    "sys.path"
   ]
  },
  {
   "cell_type": "markdown",
   "metadata": {},
   "source": [
    "### Globals"
   ]
  },
  {
   "cell_type": "code",
   "execution_count": null,
   "metadata": {
    "collapsed": true
   },
   "outputs": [],
   "source": []
  },
  {
   "cell_type": "markdown",
   "metadata": {},
   "source": [
    "## Testing"
   ]
  },
  {
   "cell_type": "code",
   "execution_count": 12,
   "metadata": {
    "collapsed": false
   },
   "outputs": [],
   "source": [
    "  def change_possibilities_bottom_up(amount, denominations):\n",
    "    ways_of_doing_n_cents = [0] * (amount + 1)\n",
    "    ways_of_doing_n_cents[0] = 1\n",
    "\n",
    "    for coin in denominations:\n",
    "        for higher_amount in range(coin, amount + 1):\n",
    "            higher_amount_remainder = higher_amount - coin\n",
    "            ways_of_doing_n_cents[higher_amount] += ways_of_doing_n_cents[higher_amount_remainder]\n",
    "\n",
    "    return ways_of_doing_n_cents[amount]"
   ]
  },
  {
   "cell_type": "code",
   "execution_count": 13,
   "metadata": {
    "collapsed": false
   },
   "outputs": [],
   "source": [
    "  def change_possibilities_bottom_up_perm(amount, denominations):\n",
    "    ways_of_doing_n_cents = [0] * (amount + 1)\n",
    "    ways_of_doing_n_cents[0] = 1\n",
    "\n",
    "    for higher_amount in range(amount + 1):\n",
    "        for coin in denominations:\n",
    "            higher_amount_remainder = higher_amount - coin\n",
    "            ways_of_doing_n_cents[higher_amount] += ways_of_doing_n_cents[higher_amount_remainder]\n",
    "\n",
    "    return ways_of_doing_n_cents[amount]"
   ]
  },
  {
   "cell_type": "code",
   "execution_count": 14,
   "metadata": {
    "collapsed": false
   },
   "outputs": [
    {
     "data": {
      "text/plain": [
       "4"
      ]
     },
     "execution_count": 14,
     "metadata": {},
     "output_type": "execute_result"
    }
   ],
   "source": [
    "change_possibilities_bottom_up(amount=4, denominations=[3,2,1])"
   ]
  },
  {
   "cell_type": "code",
   "execution_count": 15,
   "metadata": {
    "collapsed": false
   },
   "outputs": [
    {
     "data": {
      "text/plain": [
       "7"
      ]
     },
     "execution_count": 15,
     "metadata": {},
     "output_type": "execute_result"
    }
   ],
   "source": [
    "change_possibilities_bottom_up_perm(amount=4, denominations=[3,2,1])"
   ]
  },
  {
   "cell_type": "code",
   "execution_count": null,
   "metadata": {
    "collapsed": true
   },
   "outputs": [],
   "source": []
  }
 ],
 "metadata": {
  "kernelspec": {
   "display_name": "Python 3",
   "language": "python",
   "name": "python3"
  },
  "language_info": {
   "codemirror_mode": {
    "name": "ipython",
    "version": 3
   },
   "file_extension": ".py",
   "mimetype": "text/x-python",
   "name": "python",
   "nbconvert_exporter": "python",
   "pygments_lexer": "ipython3",
   "version": "3.4.3"
  }
 },
 "nbformat": 4,
 "nbformat_minor": 0
}
