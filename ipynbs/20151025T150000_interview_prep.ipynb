{
 "cells": [
  {
   "cell_type": "markdown",
   "metadata": {},
   "source": [
    "# Interview preparation\n",
    "\n",
    "## Initialization\n",
    "\n",
    "### Imports"
   ]
  },
  {
   "cell_type": "code",
   "execution_count": 38,
   "metadata": {
    "collapsed": false
   },
   "outputs": [
    {
     "name": "stdout",
     "output_type": "stream",
     "text": [
      "/home/samuel_harrold\n"
     ]
    }
   ],
   "source": [
    "cd ~"
   ]
  },
  {
   "cell_type": "code",
   "execution_count": 39,
   "metadata": {
    "collapsed": false
   },
   "outputs": [
    {
     "ename": "SyntaxError",
     "evalue": "invalid syntax (interview_cake.py, line 280)",
     "output_type": "error",
     "traceback": [
      "\u001b[1;36m  File \u001b[1;32m\"/home/samuel_harrold/interview_prep/interview_prep/interview_cake.py\"\u001b[1;36m, line \u001b[1;32m280\u001b[0m\n\u001b[1;33m    times = sorted(times, key=operator.getitem(0)))\u001b[0m\n\u001b[1;37m                                                  ^\u001b[0m\n\u001b[1;31mSyntaxError\u001b[0m\u001b[1;31m:\u001b[0m invalid syntax\n"
     ]
    }
   ],
   "source": [
    "# Import standard packages.\n",
    "# Import installed packages.\n",
    "import collections\n",
    "import io\n",
    "import itertools\n",
    "import functools\n",
    "import operator\n",
    "import os\n",
    "import pytest\n",
    "import sys\n",
    "# Import local packages.\n",
    "# TODO: remove autoreload after testing\n",
    "%load_ext autoreload\n",
    "%autoreload 2\n",
    "# As of 2015-10-25, `interview_prep` (https://github.com/stharrold/interview_prep) is not an installable package.\n",
    "# `interview_prep` repository must be in the Python module search path to be imported.\n",
    "sys.path.insert(0, os.path.join(os.path.expanduser(r'~'), 'interview_prep'))\n",
    "import interview_prep as ip"
   ]
  },
  {
   "cell_type": "code",
   "execution_count": 3,
   "metadata": {
    "collapsed": false
   },
   "outputs": [
    {
     "data": {
      "text/plain": [
       "['/home/samuel_harrold/interview_prep',\n",
       " '',\n",
       " '/home/samuel_harrold/anaconda3/lib/python34.zip',\n",
       " '/home/samuel_harrold/anaconda3/lib/python3.4',\n",
       " '/home/samuel_harrold/anaconda3/lib/python3.4/plat-linux',\n",
       " '/home/samuel_harrold/anaconda3/lib/python3.4/lib-dynload',\n",
       " '/home/samuel_harrold/anaconda3/lib/python3.4/site-packages/Sphinx-1.3.1-py3.4.egg',\n",
       " '/home/samuel_harrold/anaconda3/lib/python3.4/site-packages/setuptools-18.4-py3.4.egg',\n",
       " '/home/samuel_harrold/anaconda3/lib/python3.4/site-packages',\n",
       " '/home/samuel_harrold/anaconda3/lib/python3.4/site-packages/cryptography-0.9.1-py3.4-linux-x86_64.egg',\n",
       " '/home/samuel_harrold/anaconda3/lib/python3.4/site-packages/IPython/extensions',\n",
       " '/home/samuel_harrold/.ipython']"
      ]
     },
     "execution_count": 3,
     "metadata": {},
     "output_type": "execute_result"
    }
   ],
   "source": [
    "sys.path"
   ]
  },
  {
   "cell_type": "markdown",
   "metadata": {},
   "source": [
    "### Globals"
   ]
  },
  {
   "cell_type": "code",
   "execution_count": null,
   "metadata": {
    "collapsed": true
   },
   "outputs": [],
   "source": []
  },
  {
   "cell_type": "markdown",
   "metadata": {},
   "source": [
    "## Testing"
   ]
  },
  {
   "cell_type": "code",
   "execution_count": 4,
   "metadata": {
    "collapsed": false
   },
   "outputs": [
    {
     "data": {
      "text/plain": [
       "True"
      ]
     },
     "execution_count": 4,
     "metadata": {},
     "output_type": "execute_result"
    }
   ],
   "source": [
    "1 < 2"
   ]
  },
  {
   "cell_type": "code",
   "execution_count": 40,
   "metadata": {
    "collapsed": true
   },
   "outputs": [],
   "source": [
    "operator.getitem?"
   ]
  },
  {
   "cell_type": "code",
   "execution_count": null,
   "metadata": {
    "collapsed": true
   },
   "outputs": [],
   "source": []
  }
 ],
 "metadata": {
  "kernelspec": {
   "display_name": "Python 3",
   "language": "python",
   "name": "python3"
  },
  "language_info": {
   "codemirror_mode": {
    "name": "ipython",
    "version": 3
   },
   "file_extension": ".py",
   "mimetype": "text/x-python",
   "name": "python",
   "nbconvert_exporter": "python",
   "pygments_lexer": "ipython3",
   "version": "3.4.3"
  }
 },
 "nbformat": 4,
 "nbformat_minor": 0
}
